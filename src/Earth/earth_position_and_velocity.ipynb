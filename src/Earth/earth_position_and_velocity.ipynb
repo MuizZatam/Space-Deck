{
 "cells": [
  {
   "cell_type": "markdown",
   "id": "0228cf20",
   "metadata": {},
   "source": [
    "# Earth's Position and Velocity"
   ]
  },
  {
   "cell_type": "markdown",
   "id": "df7eb39e",
   "metadata": {},
   "source": [
    "## Defining the Purpose\n",
    "\n",
    "Spice is a well known API written in C, used for Astronomical calculations. It works by referencing recorded Kernels by bodies like NASA's JPL (Ref. notes/kernels.md) \n",
    "\n",
    "This notebook is my introduction to Spice and Space Sciene with Python in general by walking down through the calculations of Earth and Sun parameters"
   ]
  },
  {
   "cell_type": "markdown",
   "id": "3ce5c011",
   "metadata": {},
   "source": [
    "---"
   ]
  },
  {
   "cell_type": "markdown",
   "id": "3ee7f158",
   "metadata": {},
   "source": [
    "Importing Required Libraries"
   ]
  },
  {
   "cell_type": "code",
   "execution_count": 61,
   "id": "5026183e",
   "metadata": {},
   "outputs": [],
   "source": [
    "import spiceypy\n",
    "import datetime\n",
    "import math\n",
    "import numpy as np\n",
    "import matplotlib.pyplot as plt"
   ]
  },
  {
   "cell_type": "markdown",
   "id": "fc48fbde",
   "metadata": {},
   "source": [
    "Loading the Spice Kernels"
   ]
  },
  {
   "cell_type": "code",
   "execution_count": 62,
   "id": "5a9e943e",
   "metadata": {},
   "outputs": [],
   "source": [
    "spiceypy.furnsh(\n",
    "    [\n",
    "        '../../kernels/lsk/naif0012.tls',\n",
    "        '../../kernels/pck/gm_de431.tpc',\n",
    "        '../../kernels/pck/pck00010.tpc',\n",
    "        '../../kernels/spk/de432s.bsp'\n",
    "    ]\n",
    ")"
   ]
  },
  {
   "cell_type": "markdown",
   "id": "dcd2a828",
   "metadata": {},
   "source": [
    "Constructing a Datetime Object that Returns the Current Date-Time"
   ]
  },
  {
   "cell_type": "code",
   "execution_count": 63,
   "id": "3c61035c",
   "metadata": {},
   "outputs": [],
   "source": [
    "current_date_time = datetime.datetime.today()"
   ]
  },
  {
   "cell_type": "markdown",
   "id": "710e5253",
   "metadata": {},
   "source": [
    "Formatting to the UTC Timestamp as it is better supported by Spicepy for Ephimeral Conversion"
   ]
  },
  {
   "cell_type": "code",
   "execution_count": 64,
   "id": "3b5e4adb",
   "metadata": {},
   "outputs": [
    {
     "name": "stdout",
     "output_type": "stream",
     "text": [
      "UTC Timestamp: 2025-04-30T00:00:00\n"
     ]
    }
   ],
   "source": [
    "current_date_time = current_date_time.strftime(r\"%Y-%m-%dT00:00:00\")\n",
    "\n",
    "print(f\"UTC Timestamp: {current_date_time}\")"
   ]
  },
  {
   "cell_type": "markdown",
   "id": "4fde438e",
   "metadata": {},
   "source": [
    "**Converting to Ephimeris Timestamp:**\n",
    "\n",
    "UTC Timestamps provide valid calculations for measurements on Earth. However, measuring stellar objects from an observer's point of view requires Ephimeris Timestamps as it adjusts for relativistic effects and astronomical measurements. Emphimeris Timestamps measure the time in seconds for the current date since 12AM."
   ]
  },
  {
   "cell_type": "code",
   "execution_count": 65,
   "id": "2e009bcb",
   "metadata": {},
   "outputs": [
    {
     "name": "stdout",
     "output_type": "stream",
     "text": [
      "Ephimeris Timestamp: 799243269.1854932\n"
     ]
    }
   ],
   "source": [
    "ephimeris_date_time = spiceypy.utc2et(current_date_time)\n",
    "print(f\"Ephimeris Timestamp: {ephimeris_date_time}\")"
   ]
  },
  {
   "cell_type": "markdown",
   "id": "ddc8ea94",
   "metadata": {},
   "source": [
    "Computing the State of Earth at the Current Ephimeral Timestamp"
   ]
  },
  {
   "cell_type": "code",
   "execution_count": 66,
   "id": "ac04d093",
   "metadata": {},
   "outputs": [
    {
     "name": "stdout",
     "output_type": "stream",
     "text": [
      "State Vector: [-1.16171636e+08 -9.59668910e+07  5.96730297e+03  1.85005015e+01\n",
      " -2.30826193e+01  9.00247491e-04]\n",
      "Light Time: 502.62578926939926\n",
      "Light Time in Minutes: 8.377096487823321\n"
     ]
    }
   ],
   "source": [
    "# spkgeo returns the state vector (x, y, z) cartesian system (first three of ndarray),\n",
    "# the tangential velocities in each of these directions (last three of ndarray)\n",
    "# and the light time\n",
    "\n",
    "earth_state_wrt_sun, earth_sun_light_time = spiceypy.spkgeo(\n",
    "\n",
    "    targ = 399, # 399 targ denotes Earth by Spice\n",
    "    et = ephimeris_date_time, # Reference Time\n",
    "    ref = \"ECLIPJ2000\", # Plane of reference with respect to Earth (ref. notes/reference_planes.md)\n",
    "    obs = 10 # As observed from Sun\n",
    ")\n",
    "\n",
    "print(f\"State Vector: {earth_state_wrt_sun}\")\n",
    "\n",
    "print(f\"Light Time: {earth_sun_light_time}\")\n",
    "light_time_in_minutes = earth_sun_light_time / 60.0\n",
    "print(f\"Light Time in Minutes: {light_time_in_minutes}\")"
   ]
  },
  {
   "cell_type": "markdown",
   "id": "de07b55f",
   "metadata": {},
   "source": [
    "Representation of State Vector (ECLIPJ2000)\n",
    "![State Vector](../../public/state-vector.png)\n",
    "\n",
    "*A Note on ECLIPJ2000 and Vernal Equinox*\n",
    "\n",
    "ECLIPJ2000 Plane of Reference uses the right hand rule to point the Cartesian Axes in a way such that the X Axis points to the Vernal Equinox, Y Axis points to the Orbit and Z Axis towards the observer, as viewing the plane from the top\n",
    "\n",
    "The vernal equinox, also known as the spring equinox, marks the beginning of spring in the Northern Hemisphere and occurs when the Sun crosses the celestial equator moving northward, making day and night approximately equal in length. On this day, the state vector if normalized, represents (x, y, z) as (1, 0, 0)"
   ]
  },
  {
   "cell_type": "markdown",
   "id": "538bbd54",
   "metadata": {},
   "source": [
    "Calculating Euclidean distance from Cartesian Position"
   ]
  },
  {
   "cell_type": "code",
   "execution_count": 67,
   "id": "23b90f24",
   "metadata": {},
   "outputs": [
    {
     "name": "stdout",
     "output_type": "stream",
     "text": [
      "Distance of Earth from Sun is 150683420.81926322 Kms\n"
     ]
    }
   ],
   "source": [
    "earth_sun_distance = math.sqrt(\n",
    "\n",
    "    earth_state_wrt_sun[0] ** 2.0 \n",
    "    + earth_state_wrt_sun[1] ** 2.0\n",
    "    + earth_state_wrt_sun[2] ** 2.0\n",
    ")\n",
    "\n",
    "print(f\"Distance of Earth from Sun is {earth_sun_distance} Kms\")"
   ]
  },
  {
   "cell_type": "markdown",
   "id": "7a67adeb",
   "metadata": {},
   "source": [
    "Converting to Astronomical Units (1 AU is the mean distance between Earth and the Sun)"
   ]
  },
  {
   "cell_type": "code",
   "execution_count": 68,
   "id": "40a912b8",
   "metadata": {},
   "outputs": [
    {
     "name": "stdout",
     "output_type": "stream",
     "text": [
      "Distance in Astronomical Units is 1.0072564549289447 AU\n"
     ]
    }
   ],
   "source": [
    "distance_in_au = spiceypy.convrt(earth_sun_distance, \"km\", \"au\")\n",
    "\n",
    "print(f\"Distance in Astronomical Units is {distance_in_au} AU\")"
   ]
  },
  {
   "cell_type": "markdown",
   "id": "39adb361",
   "metadata": {},
   "source": [
    "Time taken by Sunlight to reach Earth"
   ]
  },
  {
   "cell_type": "code",
   "execution_count": 69,
   "id": "77cc33d0",
   "metadata": {},
   "outputs": [
    {
     "name": "stdout",
     "output_type": "stream",
     "text": [
      "Light Time in Seconds: 502.62578926939926\n",
      "Light Time in Minutes: 8.377096487823321\n"
     ]
    }
   ],
   "source": [
    "print(f\"Light Time in Seconds: {earth_sun_light_time}\")\n",
    "light_time_in_minutes = earth_sun_light_time / 60.0\n",
    "print(f\"Light Time in Minutes: {light_time_in_minutes}\")"
   ]
  },
  {
   "cell_type": "markdown",
   "id": "7aa0d380",
   "metadata": {},
   "source": [
    "**Computing Angular and Tangential Velocities**"
   ]
  },
  {
   "cell_type": "markdown",
   "id": "e864f177",
   "metadata": {},
   "source": [
    "Converting the state vector to np array for ease in calculations"
   ]
  },
  {
   "cell_type": "code",
   "execution_count": 70,
   "id": "338553ce",
   "metadata": {},
   "outputs": [],
   "source": [
    "earth_state_wrt_sun = np.array(earth_state_wrt_sun)"
   ]
  },
  {
   "cell_type": "markdown",
   "id": "ab88ff63",
   "metadata": {},
   "source": [
    "Calculating the distance between Earth and the Sun using normalization"
   ]
  },
  {
   "cell_type": "code",
   "execution_count": 71,
   "id": "16970a8b",
   "metadata": {},
   "outputs": [
    {
     "name": "stdout",
     "output_type": "stream",
     "text": [
      "Distance between Earth and Sun is 150683420.81926322 Kms\n"
     ]
    }
   ],
   "source": [
    "earth_sun_distance = np.linalg.norm(earth_state_wrt_sun[:3])\n",
    "\n",
    "print(f\"Distance between Earth and Sun is {earth_sun_distance} Kms\")"
   ]
  },
  {
   "cell_type": "markdown",
   "id": "53246e88",
   "metadata": {},
   "source": [
    "Calculating the Orbital Velocity of Earth - It is the magnitude of velocities of Earth in each Cartesian Direction"
   ]
  },
  {
   "cell_type": "code",
   "execution_count": 72,
   "id": "dd19ccc2",
   "metadata": {},
   "outputs": [
    {
     "name": "stdout",
     "output_type": "stream",
     "text": [
      "The Orbital Velocity of Earth is 29.581681309011476 Km/s\n"
     ]
    }
   ],
   "source": [
    "orbital_velocity = np.linalg.norm(earth_state_wrt_sun[3:])\n",
    "\n",
    "print(f\"The Orbital Velocity of Earth is {orbital_velocity} Km/s\")"
   ]
  },
  {
   "cell_type": "markdown",
   "id": "2471f783",
   "metadata": {},
   "source": [
    "Calculating Gravitation x Mass as a factor to compute the actual Orbital Velocity for verification\n",
    "\n",
    "$$\n",
    "OrbitalVelocity = \\sqrt{GM/R}\n",
    "$$"
   ]
  },
  {
   "cell_type": "code",
   "execution_count": 73,
   "id": "5548313e",
   "metadata": {},
   "outputs": [],
   "source": [
    "_, GM_SUN = spiceypy.bodvcd(bodyid=10, item=\"GM\", maxn=1)"
   ]
  },
  {
   "cell_type": "markdown",
   "id": "ed1b1d11",
   "metadata": {},
   "source": [
    "Verifying the Orbital Velocity computed"
   ]
  },
  {
   "cell_type": "code",
   "execution_count": 74,
   "id": "b2546f79",
   "metadata": {},
   "outputs": [
    {
     "name": "stdout",
     "output_type": "stream",
     "text": [
      "Computed Velocity: 29.581681309011476 Km/s\n",
      "Verified Orbital Velocity: 29.677210802063204 Km/s\n"
     ]
    }
   ],
   "source": [
    "verify_orbital_velocity = lambda gm, r: np.sqrt(gm/r)\n",
    "\n",
    "print(f\"Computed Velocity: {orbital_velocity} Km/s\")\n",
    "print(f\"Verified Orbital Velocity: {verify_orbital_velocity(GM_SUN[0], earth_sun_distance)} Km/s\")"
   ]
  },
  {
   "cell_type": "markdown",
   "id": "1d89f110",
   "metadata": {},
   "source": [
    "Computing the Angular Distance and Actual Distance (Since Vernal Equinox)\n",
    "\n",
    "![Angular and Actual Distance](../../public/distance.png)\n",
    "![Calculation of Distances](../../public/calculate_distance.png)"
   ]
  },
  {
   "cell_type": "code",
   "execution_count": 75,
   "id": "75797fd6",
   "metadata": {},
   "outputs": [
    {
     "name": "stdout",
     "output_type": "stream",
     "text": [
      "Angular distance covered by Earth since last Vernal Equinox is 140.44062001652645 deg\n"
     ]
    }
   ],
   "source": [
    "earth_position_wrt_sun = earth_state_wrt_sun[:3]\n",
    "earth_state_wrt_sun_normalized = earth_position_wrt_sun / earth_sun_distance\n",
    "\n",
    "# Actual normalized state on vernal equinox:\n",
    "earth_state_wrt_sun_normed_autumn = [1.0, 0.0, 0.0]\n",
    "\n",
    "angular_distance = np.degrees(\n",
    "\n",
    "    np.arccos(np.dot(\n",
    "\n",
    "        earth_state_wrt_sun_normalized, earth_state_wrt_sun_normed_autumn\n",
    "    ))\n",
    ")\n",
    "\n",
    "print(f\"Angular distance covered by Earth since last Vernal Equinox is {angular_distance} deg\")"
   ]
  },
  {
   "cell_type": "code",
   "execution_count": 76,
   "id": "5b0f9474",
   "metadata": {},
   "outputs": [
    {
     "name": "stdout",
     "output_type": "stream",
     "text": [
      "Actual distance covered by Earth since Vernal Equinox (Approx): 369347851.2014409 Km\n"
     ]
    }
   ],
   "source": [
    "actual_distance = np.radians(angular_distance) * earth_sun_distance\n",
    "print(f\"Actual distance covered by Earth since Vernal Equinox (Approx): {actual_distance} Km\")"
   ]
  },
  {
   "cell_type": "markdown",
   "id": "fcb5b317",
   "metadata": {},
   "source": [
    "*A note on this approximation:*\n",
    "\n",
    "Since the mean distance between Sun and Earth changes with time due to the ellipsical nature of Orbit, it is impossible to accurately compute the actual arc length because of variations in 'r' in the formula:\n",
    "\n",
    "$$\n",
    "ArcLength = r (Km) * \\theta\n",
    "$$"
   ]
  }
 ],
 "metadata": {
  "kernelspec": {
   "display_name": ".venv",
   "language": "python",
   "name": "python3"
  },
  "language_info": {
   "codemirror_mode": {
    "name": "ipython",
    "version": 3
   },
   "file_extension": ".py",
   "mimetype": "text/x-python",
   "name": "python",
   "nbconvert_exporter": "python",
   "pygments_lexer": "ipython3",
   "version": "3.12.3"
  }
 },
 "nbformat": 4,
 "nbformat_minor": 5
}
